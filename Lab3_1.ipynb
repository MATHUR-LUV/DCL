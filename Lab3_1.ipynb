{
 "cells": [
  {
   "cell_type": "code",
   "execution_count": null,
   "metadata": {
    "id": "Qk7Ny0hRL94p"
   },
   "outputs": [],
   "source": [
    "import os, copy, math\n",
    "import torch, torch.nn as nn, torch.optim as optim\n",
    "import numpy as np\n",
    "import matplotlib.pyplot as plt\n",
    "from torchvision import datasets, transforms\n",
    "from torch.utils.data import DataLoader, Subset"
   ]
  },
  {
   "cell_type": "code",
   "execution_count": null,
   "metadata": {
    "id": "a6rKgv3xMBzr"
   },
   "outputs": [],
   "source": [
    "device = torch.device(\"cuda\" if torch.cuda.is_available() else \"cpu\")\n",
    "GLOBAL_MODEL_PATH = \"global_model.pt\"\n",
    "CLIENTS_DIR = \"client_updates\"\n",
    "os.makedirs(CLIENTS_DIR, exist_ok=True)"
   ]
  },
  {
   "cell_type": "code",
   "execution_count": null,
   "metadata": {
    "id": "tZmZWSz7QGna"
   },
   "outputs": [],
   "source": [
    "num_clients = 20\n",
    "num_rounds = 50\n",
    "local_epochs = 2\n",
    "batch_size = 64\n",
    "lr = 0.01\n",
    "mu = 0.05\n",
    "dirichlet_alpha = 0.05\n",
    "seed = 42\n",
    "torch.manual_seed(seed)\n",
    "np.random.seed(seed)"
   ]
  },
  {
   "cell_type": "code",
   "execution_count": null,
   "metadata": {
    "id": "JuZta8KCQJgY"
   },
   "outputs": [],
   "source": [
    "transform = transforms.Compose([transforms.ToTensor()])\n",
    "train_dataset = datasets.MNIST(root=\"./data\", train=True, download=True, transform=transform)\n",
    "test_dataset  = datasets.MNIST(root=\"./data\", train=False, download=True, transform=transform)"
   ]
  },
  {
   "cell_type": "code",
   "execution_count": null,
   "metadata": {
    "id": "wiEisc74QMQx"
   },
   "outputs": [],
   "source": [
    "def partition_dirichlet(dataset, num_clients, alpha):\n",
    "    labels = np.array(dataset.targets)\n",
    "    num_classes = int(labels.max()) + 1\n",
    "    class_indices = [np.where(labels == c)[0] for c in range(num_classes)]\n",
    "    client_indices = [[] for _ in range(num_clients)]\n",
    "\n",
    "    for c in range(num_classes):\n",
    "        idx_c = class_indices[c]\n",
    "        np.random.shuffle(idx_c)\n",
    "        proportions = np.random.dirichlet([alpha] * num_clients)\n",
    "        counts = (proportions * len(idx_c)).astype(int)\n",
    "\n",
    "        remainder = len(idx_c) - counts.sum()\n",
    "        if remainder > 0:\n",
    "            for i in np.argsort(proportions)[-remainder:]:\n",
    "                counts[i] += 1\n",
    "\n",
    "        start = 0\n",
    "        for client_id, cnt in enumerate(counts):\n",
    "            if cnt > 0:\n",
    "                client_indices[client_id].extend(idx_c[start:start+cnt].tolist())\n",
    "                start += cnt\n",
    "    return client_indices"
   ]
  },
  {
   "cell_type": "code",
   "execution_count": null,
   "metadata": {
    "colab": {
     "base_uri": "https://localhost:8080/"
    },
    "id": "NktYWNGbQO0J",
    "outputId": "e5e2d319-41a3-41c2-95e0-d82e6b98f149"
   },
   "outputs": [
    {
     "name": "stdout",
     "output_type": "stream",
     "text": [
      "Client sizes: [3544, 45, 5196, 235, 8751, 10290, 1, 2100, 2659, 1219, 2364, 2519, 6672, 1899, 3050, 1021, 51, 846, 1140, 6398]\n"
     ]
    }
   ],
   "source": [
    "client_indices = partition_dirichlet(train_dataset, num_clients, dirichlet_alpha)\n",
    "client_sizes = [len(idx) for idx in client_indices]\n",
    "print(\"Client sizes:\", client_sizes)"
   ]
  },
  {
   "cell_type": "code",
   "execution_count": null,
   "metadata": {
    "id": "1FQTMjrPQR2r"
   },
   "outputs": [],
   "source": [
    "class CNN(nn.Module):\n",
    "    def __init__(self):\n",
    "        super().__init__()\n",
    "        self.conv1 = nn.Conv2d(1, 10, kernel_size=5)\n",
    "        self.pool = nn.MaxPool2d(2)\n",
    "        self.conv2 = nn.Conv2d(10, 20, kernel_size=5)\n",
    "        self.fc1 = nn.Linear(320, 50)\n",
    "        self.fc2 = nn.Linear(50, 10)\n",
    "    def forward(self, x):\n",
    "        x = self.pool(torch.relu(self.conv1(x)))\n",
    "        x = self.pool(torch.relu(self.conv2(x)))\n",
    "        x = x.view(-1, 320)\n",
    "        x = torch.relu(self.fc1(x))\n",
    "        x = self.fc2(x)\n",
    "        return x"
   ]
  },
  {
   "cell_type": "code",
   "execution_count": null,
   "metadata": {
    "id": "943tleQmQWLr"
   },
   "outputs": [],
   "source": [
    "def evaluate_model(model):\n",
    "    model.eval()\n",
    "    loader = DataLoader(test_dataset, batch_size=1000, shuffle=False)\n",
    "    correct, total = 0, 0\n",
    "    with torch.no_grad():\n",
    "        for x,y in loader:\n",
    "            x,y = x.to(device), y.to(device)\n",
    "            out = model(x)\n",
    "            pred = out.argmax(dim=1)\n",
    "            total += y.size(0)\n",
    "            correct += (pred == y).sum().item()\n",
    "    return 100.0 * correct / total"
   ]
  },
  {
   "cell_type": "code",
   "execution_count": null,
   "metadata": {
    "id": "pPnr6N6AQacP"
   },
   "outputs": [],
   "source": [
    "def save_client_update(model_state_dict, client_id, n_samples):\n",
    "    save_path = os.path.join(CLIENTS_DIR, f\"client_{client_id}.npz\")\n",
    "    np_state = {k: v.cpu().numpy() for k,v in model_state_dict.items()}\n",
    "    np.savez(save_path, n_samples=n_samples, **np_state)"
   ]
  },
  {
   "cell_type": "code",
   "execution_count": null,
   "metadata": {
    "id": "lxpYSYmYQdTp"
   },
   "outputs": [],
   "source": [
    "def load_all_client_updates():\n",
    "    files = [os.path.join(CLIENTS_DIR, f) for f in os.listdir(CLIENTS_DIR) if f.endswith(\".npz\")]\n",
    "    updates = []\n",
    "    for f in files:\n",
    "        data = np.load(f, allow_pickle=True)\n",
    "        n = int(data[\"n_samples\"].tolist()) if \"n_samples\" in data else None\n",
    "        param_dict = {k: data[k] for k in data.files if k != \"n_samples\"}\n",
    "        updates.append((param_dict, n))\n",
    "    return updates"
   ]
  },
  {
   "cell_type": "code",
   "execution_count": null,
   "metadata": {
    "id": "SzP26AkFQfZY"
   },
   "outputs": [],
   "source": [
    "def clear_client_updates():\n",
    "    for f in os.listdir(CLIENTS_DIR):\n",
    "        path = os.path.join(CLIENTS_DIR, f)\n",
    "        if os.path.isfile(path):\n",
    "            os.remove(path)"
   ]
  },
  {
   "cell_type": "code",
   "execution_count": null,
   "metadata": {
    "id": "YfPCzUpxQhT-"
   },
   "outputs": [],
   "source": [
    "def fedavg(updates):\n",
    "    if not updates:\n",
    "        return None\n",
    "    total_n = sum([n for (_, n) in updates])\n",
    "    avg = {}\n",
    "    for k in updates[0][0].keys():\n",
    "        avg[k] = np.zeros_like(updates[0][0][k], dtype=np.float64)\n",
    "    for (params, n) in updates:\n",
    "        weight = n / total_n\n",
    "        for k, v in params.items():\n",
    "            avg[k] += v.astype(np.float64) * weight\n",
    "    for k in avg.keys():\n",
    "        avg[k] = avg[k].astype(np.float32)\n",
    "    return avg"
   ]
  },
  {
   "cell_type": "code",
   "execution_count": null,
   "metadata": {
    "id": "jSszltTOQjcf"
   },
   "outputs": [],
   "source": [
    "def local_train_fedavg(client_id):\n",
    "    model = CNN().to(device)\n",
    "    model.load_state_dict(torch.load(GLOBAL_MODEL_PATH))\n",
    "    model.train()\n",
    "    loader = DataLoader(Subset(train_dataset, client_indices[client_id]), batch_size=batch_size, shuffle=True)\n",
    "    opt = optim.SGD(model.parameters(), lr=lr)\n",
    "    loss_fn = nn.CrossEntropyLoss()\n",
    "    for _ in range(local_epochs):\n",
    "        for x,y in loader:\n",
    "            x,y = x.to(device), y.to(device)\n",
    "            opt.zero_grad()\n",
    "            loss = loss_fn(model(x), y)\n",
    "            loss.backward()\n",
    "            opt.step()\n",
    "    save_client_update(model.state_dict(), client_id, len(client_indices[client_id]))"
   ]
  },
  {
   "cell_type": "code",
   "execution_count": null,
   "metadata": {
    "id": "L3TmeDbpQmY5"
   },
   "outputs": [],
   "source": [
    "def local_train_fedprox(client_id, global_state_dict, mu_local):\n",
    "    model = CNN().to(device)\n",
    "    model.load_state_dict(global_state_dict)\n",
    "    model.train()\n",
    "    loader = DataLoader(Subset(train_dataset, client_indices[client_id]), batch_size=batch_size, shuffle=True)\n",
    "    opt = optim.SGD(model.parameters(), lr=lr)\n",
    "    loss_fn = nn.CrossEntropyLoss()\n",
    "    global_params = {k: v.to(device) for k,v in global_state_dict.items()}\n",
    "    for _ in range(local_epochs):\n",
    "        for x,y in loader:\n",
    "            x,y = x.to(device), y.to(device)\n",
    "            opt.zero_grad()\n",
    "            out = model(x)\n",
    "            loss = loss_fn(out, y)\n",
    "            prox = 0.0\n",
    "            for (name, param) in model.named_parameters():\n",
    "                prox = prox + torch.sum((param - global_params[name])**2)\n",
    "            loss = loss + (mu_local / 2.0) * prox\n",
    "            loss.backward()\n",
    "            opt.step()\n",
    "    save_client_update(model.state_dict(), client_id, len(client_indices[client_id]))"
   ]
  },
  {
   "cell_type": "code",
   "execution_count": null,
   "metadata": {
    "id": "s-yWyeYRQqLi"
   },
   "outputs": [],
   "source": [
    "def server_init_model():\n",
    "    model = CNN().to(device)\n",
    "    torch.save(model.state_dict(), GLOBAL_MODEL_PATH)"
   ]
  },
  {
   "cell_type": "code",
   "execution_count": null,
   "metadata": {
    "id": "EDO4j6lyQsXS"
   },
   "outputs": [],
   "source": [
    "def server_aggregate(weighted=True):\n",
    "    updates = load_all_client_updates()\n",
    "    if not updates:\n",
    "        return False\n",
    "    if weighted:\n",
    "        avg_numpy = fedavg(updates)\n",
    "    else:\n",
    "        total = len(updates)\n",
    "        avg_numpy = {}\n",
    "        for k in updates[0][0].keys():\n",
    "            avg_numpy[k] = sum([upd[0][k].astype(np.float64) for upd in updates]) / total\n",
    "            avg_numpy[k] = avg_numpy[k].astype(np.float32)\n",
    "    avg_torch = {k: torch.tensor(v) for k,v in avg_numpy.items()}\n",
    "    model = CNN().to(device)\n",
    "    model.load_state_dict(avg_torch)\n",
    "    torch.save(model.state_dict(), GLOBAL_MODEL_PATH)\n",
    "    clear_client_updates()\n",
    "    return True"
   ]
  },
  {
   "cell_type": "code",
   "execution_count": null,
   "metadata": {
    "id": "7D3F7XC0QvBq"
   },
   "outputs": [],
   "source": [
    "def run_fedavg_rounds(rounds):\n",
    "    server_init_model()\n",
    "    accuracies = []\n",
    "    for r in range(rounds):\n",
    "        for cid in range(num_clients):\n",
    "            local_train_fedavg(cid)\n",
    "        server_aggregate(weighted=True)\n",
    "        model = CNN().to(device)\n",
    "        model.load_state_dict(torch.load(GLOBAL_MODEL_PATH))\n",
    "        acc = evaluate_model(model)\n",
    "        accuracies.append(acc)\n",
    "        print(f\"FedAvg Round {r+1:02d} / {rounds}  acc={acc:.2f}%\")\n",
    "    return accuracies"
   ]
  },
  {
   "cell_type": "code",
   "execution_count": null,
   "metadata": {
    "id": "BojcvIFoQxBh"
   },
   "outputs": [],
   "source": [
    "def run_fedprox_rounds(rounds, mu_local):\n",
    "    server_init_model()\n",
    "    accuracies = []\n",
    "    for r in range(rounds):\n",
    "        global_state = torch.load(GLOBAL_MODEL_PATH)\n",
    "        for cid in range(num_clients):\n",
    "            local_train_fedprox(cid, copy.deepcopy(global_state), mu_local)\n",
    "        server_aggregate(weighted=True)\n",
    "        model = CNN().to(device)\n",
    "        model.load_state_dict(torch.load(GLOBAL_MODEL_PATH))\n",
    "        acc = evaluate_model(model)\n",
    "        accuracies.append(acc)\n",
    "        print(f\"FedProx (mu={mu_local}) Round {r+1:02d} / {rounds}  acc={acc:.2f}%\")\n",
    "    return accuracies"
   ]
  },
  {
   "cell_type": "code",
   "execution_count": null,
   "metadata": {
    "colab": {
     "base_uri": "https://localhost:8080/"
    },
    "id": "LZ-kL4G8QzrK",
    "outputId": "259db5d9-8864-4c8a-93c2-c04acfbf8267"
   },
   "outputs": [
    {
     "name": "stdout",
     "output_type": "stream",
     "text": [
      "FedAvg Round 01 / 50  acc=9.99%\n",
      "FedAvg Round 02 / 50  acc=13.68%\n",
      "FedAvg Round 03 / 50  acc=26.41%\n",
      "FedAvg Round 04 / 50  acc=42.13%\n",
      "FedAvg Round 05 / 50  acc=49.22%\n",
      "FedAvg Round 06 / 50  acc=53.61%\n",
      "FedAvg Round 07 / 50  acc=58.77%\n",
      "FedAvg Round 08 / 50  acc=61.43%\n",
      "FedAvg Round 09 / 50  acc=67.23%\n",
      "FedAvg Round 10 / 50  acc=69.89%\n",
      "FedAvg Round 11 / 50  acc=72.40%\n",
      "FedAvg Round 12 / 50  acc=74.14%\n",
      "FedAvg Round 13 / 50  acc=75.15%\n",
      "FedAvg Round 14 / 50  acc=76.81%\n",
      "FedAvg Round 15 / 50  acc=76.94%\n",
      "FedAvg Round 16 / 50  acc=78.36%\n",
      "FedAvg Round 17 / 50  acc=78.33%\n",
      "FedAvg Round 18 / 50  acc=79.03%\n",
      "FedAvg Round 19 / 50  acc=81.01%\n",
      "FedAvg Round 20 / 50  acc=81.35%\n",
      "FedAvg Round 21 / 50  acc=83.38%\n",
      "FedAvg Round 22 / 50  acc=82.71%\n",
      "FedAvg Round 23 / 50  acc=83.57%\n",
      "FedAvg Round 24 / 50  acc=84.53%\n",
      "FedAvg Round 25 / 50  acc=84.51%\n",
      "FedAvg Round 26 / 50  acc=85.29%\n",
      "FedAvg Round 27 / 50  acc=85.68%\n",
      "FedAvg Round 28 / 50  acc=86.29%\n",
      "FedAvg Round 29 / 50  acc=86.54%\n",
      "FedAvg Round 30 / 50  acc=86.81%\n",
      "FedAvg Round 31 / 50  acc=87.15%\n",
      "FedAvg Round 32 / 50  acc=87.22%\n",
      "FedAvg Round 33 / 50  acc=87.85%\n",
      "FedAvg Round 34 / 50  acc=87.50%\n",
      "FedAvg Round 35 / 50  acc=87.86%\n",
      "FedAvg Round 36 / 50  acc=88.26%\n",
      "FedAvg Round 37 / 50  acc=88.22%\n",
      "FedAvg Round 38 / 50  acc=88.37%\n",
      "FedAvg Round 39 / 50  acc=89.00%\n",
      "FedAvg Round 40 / 50  acc=89.31%\n",
      "FedAvg Round 41 / 50  acc=89.22%\n",
      "FedAvg Round 42 / 50  acc=89.36%\n",
      "FedAvg Round 43 / 50  acc=89.52%\n",
      "FedAvg Round 44 / 50  acc=89.83%\n",
      "FedAvg Round 45 / 50  acc=90.25%\n",
      "FedAvg Round 46 / 50  acc=90.36%\n",
      "FedAvg Round 47 / 50  acc=90.34%\n",
      "FedAvg Round 48 / 50  acc=90.44%\n",
      "FedAvg Round 49 / 50  acc=90.74%\n",
      "FedAvg Round 50 / 50  acc=90.79%\n",
      "FedProx (mu=0.05) Round 01 / 50  acc=10.00%\n",
      "FedProx (mu=0.05) Round 02 / 50  acc=24.84%\n",
      "FedProx (mu=0.05) Round 03 / 50  acc=33.06%\n",
      "FedProx (mu=0.05) Round 04 / 50  acc=42.05%\n",
      "FedProx (mu=0.05) Round 05 / 50  acc=49.77%\n",
      "FedProx (mu=0.05) Round 06 / 50  acc=54.26%\n",
      "FedProx (mu=0.05) Round 07 / 50  acc=59.16%\n",
      "FedProx (mu=0.05) Round 08 / 50  acc=65.86%\n",
      "FedProx (mu=0.05) Round 09 / 50  acc=69.76%\n",
      "FedProx (mu=0.05) Round 10 / 50  acc=70.59%\n",
      "FedProx (mu=0.05) Round 11 / 50  acc=72.90%\n",
      "FedProx (mu=0.05) Round 12 / 50  acc=74.83%\n",
      "FedProx (mu=0.05) Round 13 / 50  acc=76.60%\n",
      "FedProx (mu=0.05) Round 14 / 50  acc=77.75%\n",
      "FedProx (mu=0.05) Round 15 / 50  acc=78.48%\n",
      "FedProx (mu=0.05) Round 16 / 50  acc=78.60%\n",
      "FedProx (mu=0.05) Round 17 / 50  acc=79.06%\n",
      "FedProx (mu=0.05) Round 18 / 50  acc=80.94%\n",
      "FedProx (mu=0.05) Round 19 / 50  acc=80.97%\n",
      "FedProx (mu=0.05) Round 20 / 50  acc=81.42%\n",
      "FedProx (mu=0.05) Round 21 / 50  acc=83.16%\n",
      "FedProx (mu=0.05) Round 22 / 50  acc=83.15%\n",
      "FedProx (mu=0.05) Round 23 / 50  acc=84.44%\n",
      "FedProx (mu=0.05) Round 24 / 50  acc=84.68%\n",
      "FedProx (mu=0.05) Round 25 / 50  acc=85.00%\n",
      "FedProx (mu=0.05) Round 26 / 50  acc=85.71%\n",
      "FedProx (mu=0.05) Round 27 / 50  acc=85.98%\n",
      "FedProx (mu=0.05) Round 28 / 50  acc=86.65%\n",
      "FedProx (mu=0.05) Round 29 / 50  acc=86.60%\n",
      "FedProx (mu=0.05) Round 30 / 50  acc=86.89%\n",
      "FedProx (mu=0.05) Round 31 / 50  acc=87.61%\n",
      "FedProx (mu=0.05) Round 32 / 50  acc=87.56%\n",
      "FedProx (mu=0.05) Round 33 / 50  acc=87.89%\n",
      "FedProx (mu=0.05) Round 34 / 50  acc=87.85%\n",
      "FedProx (mu=0.05) Round 35 / 50  acc=87.80%\n",
      "FedProx (mu=0.05) Round 36 / 50  acc=88.30%\n",
      "FedProx (mu=0.05) Round 37 / 50  acc=89.01%\n",
      "FedProx (mu=0.05) Round 38 / 50  acc=88.93%\n",
      "FedProx (mu=0.05) Round 39 / 50  acc=89.12%\n",
      "FedProx (mu=0.05) Round 40 / 50  acc=89.31%\n",
      "FedProx (mu=0.05) Round 41 / 50  acc=89.27%\n",
      "FedProx (mu=0.05) Round 42 / 50  acc=89.46%\n",
      "FedProx (mu=0.05) Round 43 / 50  acc=90.10%\n",
      "FedProx (mu=0.05) Round 44 / 50  acc=89.94%\n",
      "FedProx (mu=0.05) Round 45 / 50  acc=90.17%\n",
      "FedProx (mu=0.05) Round 46 / 50  acc=90.31%\n",
      "FedProx (mu=0.05) Round 47 / 50  acc=90.65%\n",
      "FedProx (mu=0.05) Round 48 / 50  acc=90.50%\n",
      "FedProx (mu=0.05) Round 49 / 50  acc=90.89%\n",
      "FedProx (mu=0.05) Round 50 / 50  acc=91.21%\n"
     ]
    }
   ],
   "source": [
    "acc_fedavg = run_fedavg_rounds(num_rounds)\n",
    "acc_fedprox = run_fedprox_rounds(num_rounds, mu_local=mu)"
   ]
  },
  {
   "cell_type": "code",
   "execution_count": null,
   "metadata": {
    "colab": {
     "base_uri": "https://localhost:8080/",
     "height": 564
    },
    "id": "O5pgm77uQ5cV",
    "outputId": "7bc890ab-5b02-43bc-e8ec-9e1a30dd3a9f"
   },
   "outputs": [
    {
     "data": {
      "image/png": "[encoded data removed]",
      "text/plain": [
       "<Figure size 900x600 with 1 Axes>"
      ]
     },
     "metadata": {},
     "output_type": "display_data"
    }
   ],
   "source": [
    "plt.figure(figsize=(9,6))\n",
    "plt.plot(acc_fedavg, marker='o', label=f\"FedAvg (alpha={dirichlet_alpha})\")\n",
    "plt.plot(acc_fedprox, marker='s', label=f\"FedProx mu={mu}\")\n",
    "plt.xlabel(\"Communication Rounds\")\n",
    "plt.ylabel(\"Test Accuracy (%)\")\n",
    "plt.title(\"FedAvg vs FedProx on MNIST (Dirichlet non-IID)\")\n",
    "plt.legend()\n",
    "plt.grid(True)\n",
    "plt.show()"
   ]
  },
  {
   "cell_type": "code",
   "execution_count": null,
   "metadata": {
    "id": "phNI4vjSRQXE"
   },
   "outputs": [],
   "source": []
  }
 ],
 "metadata": {
  "accelerator": "GPU",
  "colab": {
   "gpuType": "T4",
   "provenance": []
  },
  "kernelspec": {
   "display_name": "Python 3",
   "language": "python",
   "name": "python3"
  },
  "language_info": {
   "codemirror_mode": {
    "name": "ipython",
    "version": 3
   },
   "file_extension": ".py",
   "mimetype": "text/x-python",
   "name": "python",
   "nbconvert_exporter": "python",
   "pygments_lexer": "ipython3",
   "version": "3.8.10"
  }
 },
 "nbformat": 4,
 "nbformat_minor": 4
}
