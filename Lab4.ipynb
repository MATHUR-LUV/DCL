{
 "cells": [
  {
   "cell_type": "code",
   "execution_count": 1,
   "metadata": {
    "id": "a7YD_XvmGrHy"
   },
   "outputs": [],
   "source": [
    "import torch\n",
    "import torch.nn as nn\n",
    "import torch.nn.functional as F\n",
    "import torch.optim as optim\n",
    "from torchvision import datasets, transforms\n",
    "from torch.utils.data import DataLoader, Subset\n",
    "import numpy as np\n",
    "import copy\n",
    "from matplotlib import pyplot as plt\n",
    "import random"
   ]
  },
  {
   "cell_type": "code",
   "execution_count": 2,
   "metadata": {
    "id": "Y6lsiYMhGsKS"
   },
   "outputs": [],
   "source": [
    "device = torch.device(\"cuda\" if torch.cuda.is_available() else \"cpu\")\n",
    "num_clients = 5\n",
    "num_rounds = 10\n",
    "batch_size = 64\n",
    "lr = 0.01\n",
    "GLOBAL_MODEL_PATH = \"global_model.pth\"\n",
    "\n",
    "client_epochs = [1, 2, 3, 4, 5]\n",
    "participation_rate = 0.5\n",
    "assert len(client_epochs) == num_clients"
   ]
  },
  {
   "cell_type": "code",
   "execution_count": 3,
   "metadata": {
    "id": "6eDfQu-bGuoP"
   },
   "outputs": [],
   "source": [
    "class CNN(nn.Module):\n",
    "    def __init__(self):\n",
    "        super(CNN, self).__init__()\n",
    "        self.conv1 = nn.Conv2d(1, 32, 3, 1)\n",
    "        self.conv2 = nn.Conv2d(32, 64, 3, 1)\n",
    "        self.fc1 = nn.Linear(9216, 128)\n",
    "        self.fc2 = nn.Linear(128, 10)\n",
    "\n",
    "    def forward(self, x):\n",
    "        x = self.conv1(x)\n",
    "        x = F.relu(x)\n",
    "        x = self.conv2(x)\n",
    "        x = F.relu(x)\n",
    "        x = F.max_pool2d(x, 2)\n",
    "        x = torch.flatten(x, 1)\n",
    "        x = self.fc1(x)\n",
    "        x = F.relu(x)\n",
    "        x = self.fc2(x)\n",
    "        return x"
   ]
  },
  {
   "cell_type": "code",
   "execution_count": 4,
   "metadata": {
    "colab": {
     "base_uri": "https://localhost:8080/"
    },
    "id": "1G9Ters2G1_n",
    "outputId": "e06a569c-997f-4c3c-bb5d-529361d4c422"
   },
   "outputs": [
    {
     "name": "stderr",
     "output_type": "stream",
     "text": [
      "100%|██████████| 9.91M/9.91M [00:00<00:00, 15.9MB/s]\n",
      "100%|██████████| 28.9k/28.9k [00:00<00:00, 476kB/s]\n",
      "100%|██████████| 1.65M/1.65M [00:00<00:00, 4.43MB/s]\n",
      "100%|██████████| 4.54k/4.54k [00:00<00:00, 9.33MB/s]\n"
     ]
    }
   ],
   "source": [
    "transform = transforms.Compose([transforms.ToTensor()])\n",
    "train_dataset = datasets.MNIST('./data', train=True, download=True, transform=transform)\n",
    "test_dataset = datasets.MNIST('./data', train=False, transform=transform)\n",
    "test_loader = DataLoader(test_dataset, batch_size=1000, shuffle=False)"
   ]
  },
  {
   "cell_type": "code",
   "execution_count": 5,
   "metadata": {
    "id": "657osS8hG4qw"
   },
   "outputs": [],
   "source": [
    "def partition_dataset(dataset, num_clients):\n",
    "    size_per_client = len(dataset) // num_clients\n",
    "    indices = torch.randperm(len(dataset))\n",
    "    return [indices[i*size_per_client:(i+1)*size_per_client].tolist() for i in range(num_clients)]"
   ]
  },
  {
   "cell_type": "code",
   "execution_count": 16,
   "metadata": {
    "id": "ow6ZNOdtG6Wn"
   },
   "outputs": [],
   "source": [
    "client_indices = partition_dataset(train_dataset, num_clients)\n",
    "client_data_sizes = [len(indices) for indices in client_indices]"
   ]
  },
  {
   "cell_type": "code",
   "execution_count": 7,
   "metadata": {
    "id": "mfY73qNlG8TR"
   },
   "outputs": [],
   "source": [
    "def evaluate_model(model):\n",
    "    model.eval()\n",
    "    correct, total = 0, 0\n",
    "    with torch.no_grad():\n",
    "        for data, target in test_loader:\n",
    "            data, target = data.to(device), target.to(device)\n",
    "            output = model(data)\n",
    "            pred = output.argmax(dim=1)\n",
    "            correct += pred.eq(target).sum().item()\n",
    "            total += target.size(0)\n",
    "    return 100.0 * correct / total"
   ]
  },
  {
   "cell_type": "code",
   "execution_count": 8,
   "metadata": {
    "id": "NnCeAfiGG-hf"
   },
   "outputs": [],
   "source": [
    "def server_init_model():\n",
    "    model = CNN().to(device)\n",
    "    torch.save(model.state_dict(), GLOBAL_MODEL_PATH)"
   ]
  },
  {
   "cell_type": "code",
   "execution_count": 9,
   "metadata": {
    "id": "TG_HByD6HAlb"
   },
   "outputs": [],
   "source": [
    "def local_train(client_id, epochs, lr=0.01, batch_size=64):\n",
    "    model = CNN().to(device)\n",
    "    model.load_state_dict(torch.load(GLOBAL_MODEL_PATH))\n",
    "    model.train()\n",
    "\n",
    "    client_subset = Subset(train_dataset, client_indices[client_id])\n",
    "    client_loader = DataLoader(client_subset, batch_size=batch_size, shuffle=True)\n",
    "\n",
    "    optimizer = optim.SGD(model.parameters(), lr=lr)\n",
    "    criterion = nn.CrossEntropyLoss()\n",
    "\n",
    "    for _ in range(epochs):\n",
    "        for data, target in client_loader:\n",
    "            data, target = data.to(device), target.to(device)\n",
    "            optimizer.zero_grad()\n",
    "            output = model(data)\n",
    "            loss = criterion(output, target)\n",
    "            loss.backward()\n",
    "            optimizer.step()\n",
    "\n",
    "    torch.save(model.state_dict(), f\"client_{client_id}_model.pth\")\n",
    "    return len(client_subset), epochs"
   ]
  },
  {
   "cell_type": "code",
   "execution_count": 10,
   "metadata": {
    "id": "FNzwL-7iHDUB"
   },
   "outputs": [],
   "source": [
    "def server_aggregate_fedavg(selected_clients):\n",
    "    client_dicts = [torch.load(f\"client_{cid}_model.pth\") for cid in selected_clients]\n",
    "    avg_dict = copy.deepcopy(client_dicts[0])\n",
    "\n",
    "    for k in avg_dict.keys():\n",
    "        for i in range(1, len(client_dicts)):\n",
    "            avg_dict[k] += client_dicts[i][k]\n",
    "        avg_dict[k] = avg_dict[k] / len(client_dicts)\n",
    "\n",
    "    global_model = CNN().to(device)\n",
    "    global_model.load_state_dict(avg_dict)\n",
    "    torch.save(global_model.state_dict(), GLOBAL_MODEL_PATH)"
   ]
  },
  {
   "cell_type": "code",
   "execution_count": 11,
   "metadata": {
    "id": "56wL--LKHFyK"
   },
   "outputs": [],
   "source": [
    "def server_aggregate_fednova(selected_clients, client_data_sizes, client_epochs):\n",
    "    client_dicts = [torch.load(f\"client_{cid}_model.pth\") for cid in selected_clients]\n",
    "    global_model = CNN().to(device)\n",
    "    global_model.load_state_dict(torch.load(GLOBAL_MODEL_PATH))\n",
    "    global_dict = global_model.state_dict()\n",
    "\n",
    "    tau_eff = sum([client_data_sizes[i] * client_epochs[i] for i in selected_clients])\n",
    "\n",
    "    new_dict = {}\n",
    "    for k in global_dict.keys():\n",
    "        new_dict[k] = torch.zeros_like(global_dict[k])\n",
    "        for idx, cid in enumerate(selected_clients):\n",
    "            new_dict[k] += client_dicts[idx][k] * client_data_sizes[cid] * client_epochs[cid]\n",
    "        new_dict[k] /= tau_eff\n",
    "\n",
    "    global_model.load_state_dict(new_dict)\n",
    "    torch.save(global_model.state_dict(), GLOBAL_MODEL_PATH)\n"
   ]
  },
  {
   "cell_type": "code",
   "execution_count": 12,
   "metadata": {
    "id": "k8FgWjbRHHq3"
   },
   "outputs": [],
   "source": [
    "def run_fedavg():\n",
    "    server_init_model()\n",
    "    acc_list = []\n",
    "    for rnd in range(num_rounds):\n",
    "        num_selected = max(1, int(num_clients * participation_rate))\n",
    "        selected_clients = random.sample(range(num_clients), num_selected)\n",
    "        for cid in selected_clients:\n",
    "            local_train(cid, epochs=client_epochs[cid], lr=lr, batch_size=batch_size)\n",
    "        server_aggregate_fedavg(selected_clients)\n",
    "        model = CNN().to(device)\n",
    "        model.load_state_dict(torch.load(GLOBAL_MODEL_PATH))\n",
    "        acc = evaluate_model(model)\n",
    "        acc_list.append(acc)\n",
    "        print(f\"FedAvg Round {rnd+1}: {acc:.2f}%\")\n",
    "    return acc_list"
   ]
  },
  {
   "cell_type": "code",
   "execution_count": 13,
   "metadata": {
    "id": "rgrMEsD8HK6C"
   },
   "outputs": [],
   "source": [
    "def run_fednova():\n",
    "    server_init_model()\n",
    "    acc_list = []\n",
    "    for rnd in range(num_rounds):\n",
    "        num_selected = max(1, int(num_clients * participation_rate))\n",
    "        selected_clients = random.sample(range(num_clients), num_selected)\n",
    "\n",
    "        for cid in selected_clients:\n",
    "            local_train(cid, epochs=client_epochs[cid], lr=lr, batch_size=batch_size)\n",
    "\n",
    "        server_aggregate_fednova(selected_clients, client_data_sizes, client_epochs)\n",
    "\n",
    "        model = CNN().to(device)\n",
    "        model.load_state_dict(torch.load(GLOBAL_MODEL_PATH))\n",
    "        acc = evaluate_model(model)\n",
    "        acc_list.append(acc)\n",
    "        print(f\"FedNova Round {rnd+1}: {acc:.2f}%\")\n",
    "    return acc_list\n"
   ]
  },
  {
   "cell_type": "code",
   "execution_count": 14,
   "metadata": {
    "colab": {
     "base_uri": "https://localhost:8080/"
    },
    "id": "itsPyreMHMti",
    "outputId": "67b650b8-f396-4549-966a-19b674040be4"
   },
   "outputs": [
    {
     "name": "stdout",
     "output_type": "stream",
     "text": [
      "Running FedAvg with heterogeneous local epochs...\n",
      "FedAvg Round 1: 89.21%\n",
      "FedAvg Round 2: 90.34%\n",
      "FedAvg Round 3: 94.04%\n",
      "FedAvg Round 4: 95.10%\n",
      "FedAvg Round 5: 96.13%\n",
      "FedAvg Round 6: 95.99%\n",
      "FedAvg Round 7: 96.71%\n",
      "FedAvg Round 8: 96.70%\n",
      "FedAvg Round 9: 97.17%\n",
      "FedAvg Round 10: 97.23%\n"
     ]
    }
   ],
   "source": [
    "print(\"Running FedAvg with heterogeneous local epochs...\")\n",
    "acc_fedavg = run_fedavg()"
   ]
  },
  {
   "cell_type": "code",
   "execution_count": 17,
   "metadata": {
    "colab": {
     "base_uri": "https://localhost:8080/"
    },
    "id": "lRBujCUrLFNH",
    "outputId": "8e6359bc-0fa9-4b5f-cc5c-fa046ac8da52"
   },
   "outputs": [
    {
     "name": "stdout",
     "output_type": "stream",
     "text": [
      "\n",
      "Running FedNova with heterogeneous local epochs...\n",
      "FedNova Round 1: 89.55%\n",
      "FedNova Round 2: 92.38%\n",
      "FedNova Round 3: 94.94%\n",
      "FedNova Round 4: 95.74%\n",
      "FedNova Round 5: 96.20%\n",
      "FedNova Round 6: 96.48%\n",
      "FedNova Round 7: 96.74%\n",
      "FedNova Round 8: 97.02%\n",
      "FedNova Round 9: 97.31%\n",
      "FedNova Round 10: 97.31%\n"
     ]
    }
   ],
   "source": [
    "print(\"\\nRunning FedNova with heterogeneous local epochs...\")\n",
    "acc_fednova = run_fednova()"
   ]
  },
  {
   "cell_type": "code",
   "execution_count": 18,
   "metadata": {
    "colab": {
     "base_uri": "https://localhost:8080/",
     "height": 607
    },
    "id": "MwOyD0FxF1Jk",
    "outputId": "16e24357-ebc5-42bf-8ff9-c9a2120ea0ba"
   },
   "outputs": [
    {
     "data": {
      "image/png": "[encoded data removed]",
      "text/plain": [
       "<Figure size 1000x600 with 1 Axes>"
      ]
     },
     "metadata": {},
     "output_type": "display_data"
    }
   ],
   "source": [
    "plt.figure(figsize=(10,6))\n",
    "plt.plot(acc_fedavg, label=\"FedAvg\")\n",
    "plt.plot(acc_fednova, label=\"FedNova\")\n",
    "plt.xlabel(\"Communication Rounds\")\n",
    "plt.ylabel(\"Test Accuracy (%)\")\n",
    "plt.title(\"FedAvg vs FedNova\")\n",
    "plt.legend()\n",
    "plt.grid(True)\n",
    "plt.tight_layout()\n",
    "plt.show()"
   ]
  },
  {
   "cell_type": "code",
   "execution_count": null,
   "metadata": {
    "id": "Q9mS0XfZHcvx"
   },
   "outputs": [],
   "source": []
  }
 ],
 "metadata": {
  "accelerator": "GPU",
  "colab": {
   "gpuType": "T4",
   "provenance": []
  },
  "kernelspec": {
   "display_name": "Python 3",
   "language": "python",
   "name": "python3"
  },
  "language_info": {
   "codemirror_mode": {
    "name": "ipython",
    "version": 3
   },
   "file_extension": ".py",
   "mimetype": "text/x-python",
   "name": "python",
   "nbconvert_exporter": "python",
   "pygments_lexer": "ipython3",
   "version": "3.8.10"
  }
 },
 "nbformat": 4,
 "nbformat_minor": 4
}
